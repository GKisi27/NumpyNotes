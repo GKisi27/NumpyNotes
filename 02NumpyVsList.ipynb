{
 "cells": [
  {
   "cell_type": "markdown",
   "metadata": {},
   "source": [
    "## Numpy v/s List\n",
    "### Advantages of Numpy over List\n",
    "1. Less Memory\n",
    "2. Fast\n",
    "3. Convenient"
   ]
  },
  {
   "cell_type": "code",
   "execution_count": 6,
   "metadata": {},
   "outputs": [],
   "source": [
    "import numpy as np\n",
    "import time\n",
    "import sys"
   ]
  },
  {
   "cell_type": "markdown",
   "metadata": {},
   "source": [
    "### Testing for Memory taken by List and Numpy"
   ]
  },
  {
   "cell_type": "code",
   "execution_count": 5,
   "metadata": {},
   "outputs": [
    {
     "name": "stdout",
     "output_type": "stream",
     "text": [
      "Memory size taken by List s: 28000\n",
      "Memory size taken by Numpy Array d: 4000\n"
     ]
    }
   ],
   "source": [
    "#Defining List\n",
    "s = range(1000)\n",
    "s_memory = sys.getsizeof(5)*len(s)\n",
    "print(f\"Memory size taken by List s: {s_memory}\")\n",
    "\n",
    "#Defining Numpy array\n",
    "d = np.arange(1000)\n",
    "d_memory = d.size*d.itemsize\n",
    "print(f\"Memory size taken by Numpy Array d: {d_memory}\")"
   ]
  },
  {
   "cell_type": "markdown",
   "metadata": {},
   "source": [
    "### Testing for time taken by List and Numpy"
   ]
  },
  {
   "cell_type": "code",
   "execution_count": 7,
   "metadata": {},
   "outputs": [
    {
     "name": "stdout",
     "output_type": "stream",
     "text": [
      "Time taken by List: 293.44892501831055\n",
      "Time taken by Numpy: 75.15096664428711\n"
     ]
    }
   ],
   "source": [
    "size = 1000000\n",
    "l1 = range(size)\n",
    "l2 = range(size)\n",
    "\n",
    "a1 = np.arange(size)\n",
    "a2 = np.arange(size)\n",
    "\n",
    "start = time.time()\n",
    "result = [(x,y) for x,y in zip(l1,l2)]\n",
    "time_by_list = (time.time()-start)*1000\n",
    "print(f\"Time taken by List: {time_by_list}\")\n",
    "\n",
    "start = time.time()\n",
    "result = a1*a2\n",
    "time_by_numpy = (time.time()-start)*1000\n",
    "print(f\"Time taken by Numpy: {time_by_numpy}\")"
   ]
  },
  {
   "cell_type": "markdown",
   "metadata": {},
   "source": [
    "As seen in the results above, we can conclude that Numpy arrays takes less memory; and is fast and convenient in comparison to List. "
   ]
  },
  {
   "cell_type": "code",
   "execution_count": null,
   "metadata": {},
   "outputs": [],
   "source": []
  }
 ],
 "metadata": {
  "kernelspec": {
   "display_name": "Python 3",
   "language": "python",
   "name": "python3"
  },
  "language_info": {
   "codemirror_mode": {
    "name": "ipython",
    "version": 3
   },
   "file_extension": ".py",
   "mimetype": "text/x-python",
   "name": "python",
   "nbconvert_exporter": "python",
   "pygments_lexer": "ipython3",
   "version": "3.7.3"
  }
 },
 "nbformat": 4,
 "nbformat_minor": 2
}
